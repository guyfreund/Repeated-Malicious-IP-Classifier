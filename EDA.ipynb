{
 "cells": [
  {
   "cell_type": "code",
   "execution_count": 151,
   "id": "a23e27fd",
   "metadata": {},
   "outputs": [
    {
     "name": "stdout",
     "output_type": "stream",
     "text": [
      "Collecting imbalanced-learn\n",
      "  Downloading imbalanced_learn-0.8.0-py3-none-any.whl (206 kB)\n",
      "\u001b[K     |████████████████████████████████| 206 kB 36.5 MB/s eta 0:00:01\n",
      "\u001b[?25hRequirement already satisfied: scipy>=0.19.1 in ./pyenv/lib/python3.8/site-packages (from imbalanced-learn) (1.7.1)\n",
      "Requirement already satisfied: joblib>=0.11 in ./pyenv/lib/python3.8/site-packages (from imbalanced-learn) (1.0.1)\n",
      "Requirement already satisfied: numpy>=1.13.3 in ./pyenv/lib/python3.8/site-packages (from imbalanced-learn) (1.21.1)\n",
      "Requirement already satisfied: scikit-learn>=0.24 in ./pyenv/lib/python3.8/site-packages (from imbalanced-learn) (0.24.2)\n",
      "Requirement already satisfied: threadpoolctl>=2.0.0 in ./pyenv/lib/python3.8/site-packages (from scikit-learn>=0.24->imbalanced-learn) (2.2.0)\n",
      "Installing collected packages: imbalanced-learn\n",
      "Successfully installed imbalanced-learn-0.8.0\n",
      "\u001b[33mWARNING: You are using pip version 21.2.2; however, version 21.2.4 is available.\n",
      "You should consider upgrading via the '/home/ubuntu/pyenv/bin/python -m pip install --upgrade pip' command.\u001b[0m\n"
     ]
    }
   ],
   "source": [
    "!pip install imbalanced-learn"
   ]
  },
  {
   "cell_type": "code",
   "execution_count": 2,
   "id": "f077c05b",
   "metadata": {},
   "outputs": [],
   "source": [
    "import sys\n",
    "from pprint import pprint\n",
    "from pymongo import MongoClient \n",
    "import torch\n",
    "import json\n",
    "import pandas as pd\n",
    "from pandas_profiling import ProfileReport\n",
    "import seaborn as sns\n",
    "import xgboost as xgb\n",
    "from sklearn.model_selection import train_test_split\n",
    "from matplotlib import pyplot as plt\n",
    "import imblearn"
   ]
  },
  {
   "cell_type": "markdown",
   "id": "1be904f7",
   "metadata": {},
   "source": [
    "## Database Handling"
   ]
  },
  {
   "cell_type": "code",
   "execution_count": 3,
   "id": "b70fcb00",
   "metadata": {},
   "outputs": [],
   "source": [
    "df = pd.read_pickle(\"raw_df.pkl\")"
   ]
  },
  {
   "cell_type": "code",
   "execution_count": 4,
   "id": "371fcc6e",
   "metadata": {},
   "outputs": [
    {
     "data": {
      "text/html": [
       "<div>\n",
       "<style scoped>\n",
       "    .dataframe tbody tr th:only-of-type {\n",
       "        vertical-align: middle;\n",
       "    }\n",
       "\n",
       "    .dataframe tbody tr th {\n",
       "        vertical-align: top;\n",
       "    }\n",
       "\n",
       "    .dataframe thead th {\n",
       "        text-align: right;\n",
       "    }\n",
       "</style>\n",
       "<table border=\"1\" class=\"dataframe\">\n",
       "  <thead>\n",
       "    <tr style=\"text-align: right;\">\n",
       "      <th></th>\n",
       "      <th>ip</th>\n",
       "      <th>_id.$oid</th>\n",
       "      <th>data.src_port</th>\n",
       "      <th>data.message</th>\n",
       "      <th>data.timestamp</th>\n",
       "      <th>data.sensor_geo.$binary.base64</th>\n",
       "      <th>data.sensor_geo.$binary.subType</th>\n",
       "      <th>data.sensor_segment.$binary.base64</th>\n",
       "      <th>data.sensor_segment.$binary.subType</th>\n",
       "      <th>data.ip_country</th>\n",
       "      <th>...</th>\n",
       "      <th>data.keyAlgs</th>\n",
       "      <th>data.encCS</th>\n",
       "      <th>data.macCS</th>\n",
       "      <th>data.compCS</th>\n",
       "      <th>data.langCS</th>\n",
       "      <th>data.username</th>\n",
       "      <th>data.password</th>\n",
       "      <th>data.version</th>\n",
       "      <th>data.arch</th>\n",
       "      <th>data.input</th>\n",
       "    </tr>\n",
       "  </thead>\n",
       "  <tbody>\n",
       "    <tr>\n",
       "      <th>0</th>\n",
       "      <td>139.59.39.39</td>\n",
       "      <td>6108eec5d26b021841493be7</td>\n",
       "      <td>22.0</td>\n",
       "      <td>hex</td>\n",
       "      <td>1.627975e+09</td>\n",
       "      <td>REU=</td>\n",
       "      <td>00</td>\n",
       "      <td>Rkk=</td>\n",
       "      <td>00</td>\n",
       "      <td>IN</td>\n",
       "      <td>...</td>\n",
       "      <td>NaN</td>\n",
       "      <td>NaN</td>\n",
       "      <td>NaN</td>\n",
       "      <td>NaN</td>\n",
       "      <td>NaN</td>\n",
       "      <td>NaN</td>\n",
       "      <td>NaN</td>\n",
       "      <td>NaN</td>\n",
       "      <td>NaN</td>\n",
       "      <td>NaN</td>\n",
       "    </tr>\n",
       "    <tr>\n",
       "      <th>1</th>\n",
       "      <td>206.189.48.208</td>\n",
       "      <td>6108eec5d26b021841493be6</td>\n",
       "      <td>NaN</td>\n",
       "      <td>Closing TTY Log: var/lib/cowrie/tty/28720365c5...</td>\n",
       "      <td>1.627975e+09</td>\n",
       "      <td>REU=</td>\n",
       "      <td>00</td>\n",
       "      <td>Rkk=</td>\n",
       "      <td>00</td>\n",
       "      <td>DE</td>\n",
       "      <td>...</td>\n",
       "      <td>NaN</td>\n",
       "      <td>NaN</td>\n",
       "      <td>NaN</td>\n",
       "      <td>NaN</td>\n",
       "      <td>NaN</td>\n",
       "      <td>NaN</td>\n",
       "      <td>NaN</td>\n",
       "      <td>NaN</td>\n",
       "      <td>NaN</td>\n",
       "      <td>NaN</td>\n",
       "    </tr>\n",
       "    <tr>\n",
       "      <th>2</th>\n",
       "      <td>36.92.74.150</td>\n",
       "      <td>6108eec5d26b021841493be5</td>\n",
       "      <td>NaN</td>\n",
       "      <td>SSH client hassh fingerprint: 98ddc5604ef6a100...</td>\n",
       "      <td>1.627975e+09</td>\n",
       "      <td>U0c=</td>\n",
       "      <td>00</td>\n",
       "      <td>R08=</td>\n",
       "      <td>00</td>\n",
       "      <td>ID</td>\n",
       "      <td>...</td>\n",
       "      <td>[ssh-rsa-cert-v01@openssh.com, ssh-dss-cert-v0...</td>\n",
       "      <td>[aes128-gcm@openssh.com, chacha20-poly1305@ope...</td>\n",
       "      <td>[hmac-sha2-256-etm@openssh.com, hmac-sha2-256,...</td>\n",
       "      <td>[none]</td>\n",
       "      <td>[]</td>\n",
       "      <td>NaN</td>\n",
       "      <td>NaN</td>\n",
       "      <td>NaN</td>\n",
       "      <td>NaN</td>\n",
       "      <td>NaN</td>\n",
       "    </tr>\n",
       "    <tr>\n",
       "      <th>3</th>\n",
       "      <td>79.106.48.178</td>\n",
       "      <td>6108eec59cc40ececbf48afc</td>\n",
       "      <td>NaN</td>\n",
       "      <td>login attempt [root/19810927] succeeded</td>\n",
       "      <td>1.627975e+09</td>\n",
       "      <td>REU=</td>\n",
       "      <td>00</td>\n",
       "      <td>Rkk=</td>\n",
       "      <td>00</td>\n",
       "      <td>AL</td>\n",
       "      <td>...</td>\n",
       "      <td>NaN</td>\n",
       "      <td>NaN</td>\n",
       "      <td>NaN</td>\n",
       "      <td>NaN</td>\n",
       "      <td>NaN</td>\n",
       "      <td>root</td>\n",
       "      <td>19810927</td>\n",
       "      <td>NaN</td>\n",
       "      <td>NaN</td>\n",
       "      <td>NaN</td>\n",
       "    </tr>\n",
       "    <tr>\n",
       "      <th>4</th>\n",
       "      <td>154.221.20.149</td>\n",
       "      <td>6108eec58f7501d3ef4899c9</td>\n",
       "      <td>NaN</td>\n",
       "      <td>Connection lost after 2 seconds</td>\n",
       "      <td>1.627975e+09</td>\n",
       "      <td>VVM=</td>\n",
       "      <td>00</td>\n",
       "      <td>VEU=</td>\n",
       "      <td>00</td>\n",
       "      <td>HK</td>\n",
       "      <td>...</td>\n",
       "      <td>NaN</td>\n",
       "      <td>NaN</td>\n",
       "      <td>NaN</td>\n",
       "      <td>NaN</td>\n",
       "      <td>NaN</td>\n",
       "      <td>NaN</td>\n",
       "      <td>NaN</td>\n",
       "      <td>NaN</td>\n",
       "      <td>NaN</td>\n",
       "      <td>NaN</td>\n",
       "    </tr>\n",
       "  </tbody>\n",
       "</table>\n",
       "<p>5 rows × 42 columns</p>\n",
       "</div>"
      ],
      "text/plain": [
       "               ip                  _id.$oid  data.src_port  \\\n",
       "0    139.59.39.39  6108eec5d26b021841493be7           22.0   \n",
       "1  206.189.48.208  6108eec5d26b021841493be6            NaN   \n",
       "2    36.92.74.150  6108eec5d26b021841493be5            NaN   \n",
       "3   79.106.48.178  6108eec59cc40ececbf48afc            NaN   \n",
       "4  154.221.20.149  6108eec58f7501d3ef4899c9            NaN   \n",
       "\n",
       "                                        data.message  data.timestamp  \\\n",
       "0                                                hex    1.627975e+09   \n",
       "1  Closing TTY Log: var/lib/cowrie/tty/28720365c5...    1.627975e+09   \n",
       "2  SSH client hassh fingerprint: 98ddc5604ef6a100...    1.627975e+09   \n",
       "3            login attempt [root/19810927] succeeded    1.627975e+09   \n",
       "4                    Connection lost after 2 seconds    1.627975e+09   \n",
       "\n",
       "  data.sensor_geo.$binary.base64 data.sensor_geo.$binary.subType  \\\n",
       "0                           REU=                              00   \n",
       "1                           REU=                              00   \n",
       "2                           U0c=                              00   \n",
       "3                           REU=                              00   \n",
       "4                           VVM=                              00   \n",
       "\n",
       "  data.sensor_segment.$binary.base64 data.sensor_segment.$binary.subType  \\\n",
       "0                               Rkk=                                  00   \n",
       "1                               Rkk=                                  00   \n",
       "2                               R08=                                  00   \n",
       "3                               Rkk=                                  00   \n",
       "4                               VEU=                                  00   \n",
       "\n",
       "  data.ip_country  ...                                       data.keyAlgs  \\\n",
       "0              IN  ...                                                NaN   \n",
       "1              DE  ...                                                NaN   \n",
       "2              ID  ...  [ssh-rsa-cert-v01@openssh.com, ssh-dss-cert-v0...   \n",
       "3              AL  ...                                                NaN   \n",
       "4              HK  ...                                                NaN   \n",
       "\n",
       "                                          data.encCS  \\\n",
       "0                                                NaN   \n",
       "1                                                NaN   \n",
       "2  [aes128-gcm@openssh.com, chacha20-poly1305@ope...   \n",
       "3                                                NaN   \n",
       "4                                                NaN   \n",
       "\n",
       "                                          data.macCS data.compCS data.langCS  \\\n",
       "0                                                NaN         NaN         NaN   \n",
       "1                                                NaN         NaN         NaN   \n",
       "2  [hmac-sha2-256-etm@openssh.com, hmac-sha2-256,...      [none]          []   \n",
       "3                                                NaN         NaN         NaN   \n",
       "4                                                NaN         NaN         NaN   \n",
       "\n",
       "   data.username data.password data.version  data.arch data.input  \n",
       "0            NaN           NaN          NaN        NaN        NaN  \n",
       "1            NaN           NaN          NaN        NaN        NaN  \n",
       "2            NaN           NaN          NaN        NaN        NaN  \n",
       "3           root      19810927          NaN        NaN        NaN  \n",
       "4            NaN           NaN          NaN        NaN        NaN  \n",
       "\n",
       "[5 rows x 42 columns]"
      ]
     },
     "execution_count": 4,
     "metadata": {},
     "output_type": "execute_result"
    }
   ],
   "source": [
    "df.head()"
   ]
  },
  {
   "cell_type": "markdown",
   "id": "3d461ffa",
   "metadata": {},
   "source": [
    "## Preprocessing"
   ]
  },
  {
   "cell_type": "code",
   "execution_count": 5,
   "id": "02e05b2b",
   "metadata": {},
   "outputs": [],
   "source": [
    "def factorize_df(df, categorial_col):\n",
    "    \"\"\" Transofrms non-numeric values into dummy values \"\"\"\n",
    "\n",
    "    new_df = pd.DataFrame(columns=df.columns)\n",
    "    for col in categorial_col:\n",
    "        new_df[col], _ = df[col].factorize()\n",
    "    not_categorial_cols = [col for col in df.columns if col not in categorial_col]\n",
    "    for col in not_categorial_cols:\n",
    "        new_df[col] = df[col]\n",
    "    return new_df"
   ]
  },
  {
   "cell_type": "code",
   "execution_count": 6,
   "id": "61295bb3",
   "metadata": {},
   "outputs": [],
   "source": [
    "def aggregate_session_data(df):\n",
    "    \"\"\" Aggregates the raw data into a sample per session \"\"\"\n",
    "\n",
    "    unique_session_ids = df[\"data.session\"].unique()\n",
    "    print(f'number of unique session ids: {len(unique_session_ids)}')\n",
    "    \n",
    "    # types of sessions events\n",
    "    event_types = ['log.closed', 'client.kex', 'login.success', 'session.closed', 'client.version', 'session.params', \n",
    "                   'command.input', 'session.file_download', 'session.file_download.failed', 'command.failed', \n",
    "                   'session.file_upload', 'client.var', 'command.success']\n",
    "    cols = list(df.columns) + event_types # transforming the columns\n",
    "    cols.remove(\"data.eventid\")\n",
    "    cols.remove(\"data.session\")\n",
    "\n",
    "    sessions_df = pd.DataFrame(columns=cols)\n",
    "\n",
    "    # columns which all values are unique for all session events\n",
    "    identical_cols = [\"data.session\", \"ip\", \"data.ip_country\", \"data.sensor\", \"data.src_ip\", \"data.sen_dist\", \n",
    "                      \"data.src_language\", \"data.src_os_name\", \"data.src_uptime_sec\", \"data.sensor_geo.$binary.base64\", \n",
    "                      \"data.sensor_segment.$binary.base64\", \"data.bf\"]\n",
    "    \n",
    "    # DataFrame creation\n",
    "    for i, session_id in enumerate(unique_session_ids):\n",
    "        # logging\n",
    "        if i % 10000 == 0:\n",
    "            print(f'{i}. Session ID {session_id}')\n",
    "            sessions_df.to_pickle(f\"processed_data_{i}.pkl\")\n",
    "\n",
    "        session_events = df[df[\"data.session\"]==session_id]\n",
    "        first_session = session_events.iloc[0]\n",
    "        session = {col: first_session[col] for col in identical_cols}\n",
    "        session.update({col: 0 for col in event_types})\n",
    "        event_id_fields = session_events[\"data.eventid\"].value_counts().to_dict()\n",
    "        session.update(event_id_fields)\n",
    "        session[\"data.message\"] = session_events[\"data.message\"].to_string()\n",
    "        sessions_df = sessions_df.append(session, ignore_index=True)\n",
    "    \n",
    "    sessions_df.loc[\"data.bf\"] = sessions_df[\"data.bf\"].astype(int)\n",
    "\n",
    "    # saving the processed data\n",
    "    sessions_df.to_pickle(\"processed_data.pkl\")\n",
    "    print(\"pickled processed_data\")\n",
    "\n",
    "    return sessions_df"
   ]
  },
  {
   "cell_type": "code",
   "execution_count": 7,
   "id": "1a1d5952",
   "metadata": {},
   "outputs": [],
   "source": [
    "def add_label_column(df): \n",
    "    \"\"\" Adding the label - 0 if ip doesn't return in the data, else 1. \"\"\"\n",
    "\n",
    "    df[\"label\"] = 0\n",
    "    unique_ips = df[\"ip\"].unique()\n",
    "    print(\"number of unique ips:\", len(unique_ips))\n",
    "\n",
    "    # label creation\n",
    "    for i, ip in enumerate(unique_ips):\n",
    "        # logging\n",
    "        if i % 500 == 0:\n",
    "            print(f'{i}. IP {ip}')\n",
    "\n",
    "        sessions = df[df[\"ip\"]==ip][\"data.session\"].unique() # all sessions with the same IP\n",
    "        if len(sessions) != 1: # IP is repeated in different sessions\n",
    "            df.loc[df.ip == ip, \"label\"] = 1\n",
    "\n",
    "    del df[\"data.session\"] # sessions id isn't meaningful anymore"
   ]
  },
  {
   "cell_type": "code",
   "execution_count": 19,
   "id": "ec10040f",
   "metadata": {},
   "outputs": [],
   "source": [
    "def preprocess(df):\n",
    "    \"\"\" Preprocess the data - end to end \"\"\"\n",
    "\n",
    "    # removing rows without session id\n",
    "    df = df[df[\"data.session\"].notna()]\n",
    "\n",
    "    # removing columns which aren't meaningful\n",
    "    cols_to_remove_new = ['_id.$oid', 'data.src_port', 'data.timestamp', 'data.weather', 'data.port', 'data.size', \n",
    "                          'data.shasum', 'data.ttylog', 'data.duplicate', 'data.duration', 'data.sen_os', 'data.sen_ver', \n",
    "                          'data.src_os_flavor', 'data.hassh', 'data.hasshAlgorithms', 'data.kexAlgs', 'data.keyAlgs', \n",
    "                          'data.encCS', 'data.macCS', 'data.compCS', 'data.langCS', 'data.username', 'data.password', \n",
    "                          'data.version', 'data.arch', 'data.input', 'data.sensor_geo.$binary.subType', \n",
    "                          'data.sensor_segment.$binary.subType']\n",
    "    for col in cols_to_remove_new:\n",
    "      del df[col]\n",
    "\n",
    "    # timing has no meaning, therefore using hot-encoding\n",
    "    df.loc[df[\"data.src_uptime_sec\"].notna(), \"data.src_uptime_sec\"] = 1\n",
    "    df.loc[df[\"data.src_uptime_sec\"].isna(), \"data.src_uptime_sec\"] = 0\n",
    "\n",
    "    # sessions aggergation\n",
    "    sessions_df = aggregate_session_data(df)\n",
    "\n",
    "    # labeling\n",
    "    print(\"starting add label\")\n",
    "    add_label_column(sessions_df)\n",
    "    print(\"finished add label\")\n",
    "\n",
    "    # transofrming into numeric data\n",
    "    categorical_cols = [\"ip\", \"data.sensor_geo.$binary.base64\", \"data.sensor_segment.$binary.base64\", \n",
    "                        \"data.ip_country\", \"data.message\", \"data.sensor\", \"data.src_ip\", \"data.sen_dist\", \n",
    "                        \"data.src_language\", \"data.src_os_name\"]\n",
    "    processed_data = factorize_df(sessions_df, categorical_cols)\n",
    "        \n",
    "    # saving the preprocessed data\n",
    "    processed_data.to_pickle(\"factorized_data.pkl\")\n",
    "    print(\"pickled factorized_data\")\n",
    "\n",
    "    return processed_data"
   ]
  },
  {
   "cell_type": "code",
   "execution_count": 20,
   "id": "1d38e273",
   "metadata": {},
   "outputs": [],
   "source": [
    "def prepare_data_for_model(df):\n",
    "    # remove ip columns and NaN columns\n",
    "    for col in [\"client.size\", \"client.fingerprint\", \"ip\", \"data.src_ip\"]:\n",
    "        if col in df.columns:\n",
    "            del df[col]"
   ]
  },
  {
   "cell_type": "code",
   "execution_count": 21,
   "id": "70c59d04",
   "metadata": {},
   "outputs": [],
   "source": [
    "def get_train_test_data(data):\n",
    "    \"\"\" Processing the data and splitting into test & train sets differentiated by IPs \"\"\"\n",
    "\n",
    "    # data preprocessing\n",
    "    processed_data = preprocess(data)\n",
    "    print(processed_data[\"label\"].value_counts())\n",
    "\n",
    "    # getting all unique ideas to create the data sets\n",
    "    unique_ips = processed_data.drop_duplicates(subset=[\"ip\"])\n",
    "    X = unique_ips.loc[:, processed_data.columns != \"label\"]\n",
    "    y = unique_ips[\"label\"]\n",
    "\n",
    "    X_train, X_test, y_train, y_test = train_test_split(X, y, test_size=0.33, random_state=42)\n",
    "    train_ips = X_train[\"ip\"].unique()\n",
    "    test_ips = X_test[\"ip\"].unique()\n",
    "\n",
    "    train = processed_data[processed_data[\"ip\"].isin(train_ips)] # all rows that has the train ips\n",
    "    test = processed_data[processed_data[\"ip\"].isin(test_ips)] # all rows that has the test ips\n",
    "\n",
    "    X_train = train.loc[:, processed_data.columns != \"label\"]\n",
    "    y_train = train[\"label\"]\n",
    "\n",
    "    X_test = test.loc[:, processed_data.columns != \"label\"]\n",
    "    y_test = test[\"label\"]\n",
    "    \n",
    "    prepare_data_for_model(X_train)\n",
    "    prepare_data_for_model(X_test)\n",
    "    \n",
    "    return X_train, X_test, y_train, y_test"
   ]
  },
  {
   "cell_type": "code",
   "execution_count": 10,
   "id": "bca148d2",
   "metadata": {
    "scrolled": false
   },
   "outputs": [
    {
     "name": "stderr",
     "output_type": "stream",
     "text": [
      "/home/ubuntu/pyenv/lib/python3.8/site-packages/pandas/core/indexing.py:1817: SettingWithCopyWarning: \n",
      "A value is trying to be set on a copy of a slice from a DataFrame.\n",
      "Try using .loc[row_indexer,col_indexer] = value instead\n",
      "\n",
      "See the caveats in the documentation: https://pandas.pydata.org/pandas-docs/stable/user_guide/indexing.html#returning-a-view-versus-a-copy\n",
      "  self._setitem_single_column(loc, value, pi)\n"
     ]
    },
    {
     "name": "stdout",
     "output_type": "stream",
     "text": [
      "number of unique session ids: 315497\n",
      "0. Session ID 6bb9d8312f0f\n"
     ]
    },
    {
     "ename": "KeyboardInterrupt",
     "evalue": "",
     "output_type": "error",
     "traceback": [
      "\u001b[0;31m---------------------------------------------------------------------------\u001b[0m",
      "\u001b[0;31mKeyboardInterrupt\u001b[0m                         Traceback (most recent call last)",
      "\u001b[0;32m/tmp/ipykernel_72631/4058868242.py\u001b[0m in \u001b[0;36m<module>\u001b[0;34m\u001b[0m\n\u001b[0;32m----> 1\u001b[0;31m \u001b[0mX_train\u001b[0m\u001b[0;34m,\u001b[0m \u001b[0mX_test\u001b[0m\u001b[0;34m,\u001b[0m \u001b[0my_train\u001b[0m\u001b[0;34m,\u001b[0m \u001b[0my_test\u001b[0m \u001b[0;34m=\u001b[0m \u001b[0mget_train_test_data\u001b[0m\u001b[0;34m(\u001b[0m\u001b[0mdf\u001b[0m\u001b[0;34m)\u001b[0m\u001b[0;34m\u001b[0m\u001b[0;34m\u001b[0m\u001b[0m\n\u001b[0m",
      "\u001b[0;32m/tmp/ipykernel_72631/4239220199.py\u001b[0m in \u001b[0;36mget_train_test_data\u001b[0;34m(data)\u001b[0m\n\u001b[1;32m      3\u001b[0m \u001b[0;34m\u001b[0m\u001b[0m\n\u001b[1;32m      4\u001b[0m     \u001b[0;31m# data preprocessing\u001b[0m\u001b[0;34m\u001b[0m\u001b[0;34m\u001b[0m\u001b[0;34m\u001b[0m\u001b[0m\n\u001b[0;32m----> 5\u001b[0;31m     \u001b[0mprocessed_data\u001b[0m \u001b[0;34m=\u001b[0m \u001b[0mpreprocess\u001b[0m\u001b[0;34m(\u001b[0m\u001b[0mdata\u001b[0m\u001b[0;34m)\u001b[0m\u001b[0;34m\u001b[0m\u001b[0;34m\u001b[0m\u001b[0m\n\u001b[0m\u001b[1;32m      6\u001b[0m     \u001b[0mprint\u001b[0m\u001b[0;34m(\u001b[0m\u001b[0mprocessed_data\u001b[0m\u001b[0;34m[\u001b[0m\u001b[0;34m\"label\"\u001b[0m\u001b[0;34m]\u001b[0m\u001b[0;34m.\u001b[0m\u001b[0mvalue_counts\u001b[0m\u001b[0;34m(\u001b[0m\u001b[0;34m)\u001b[0m\u001b[0;34m)\u001b[0m\u001b[0;34m\u001b[0m\u001b[0;34m\u001b[0m\u001b[0m\n\u001b[1;32m      7\u001b[0m \u001b[0;34m\u001b[0m\u001b[0m\n",
      "\u001b[0;32m/tmp/ipykernel_72631/3138331494.py\u001b[0m in \u001b[0;36mpreprocess\u001b[0;34m(df)\u001b[0m\n\u001b[1;32m     20\u001b[0m \u001b[0;34m\u001b[0m\u001b[0m\n\u001b[1;32m     21\u001b[0m     \u001b[0;31m# sessions aggergation\u001b[0m\u001b[0;34m\u001b[0m\u001b[0;34m\u001b[0m\u001b[0;34m\u001b[0m\u001b[0m\n\u001b[0;32m---> 22\u001b[0;31m     \u001b[0msessions_df\u001b[0m \u001b[0;34m=\u001b[0m \u001b[0maggregate_session_data\u001b[0m\u001b[0;34m(\u001b[0m\u001b[0mdf\u001b[0m\u001b[0;34m)\u001b[0m\u001b[0;34m\u001b[0m\u001b[0;34m\u001b[0m\u001b[0m\n\u001b[0m\u001b[1;32m     23\u001b[0m \u001b[0;34m\u001b[0m\u001b[0m\n\u001b[1;32m     24\u001b[0m     \u001b[0;31m# labeling\u001b[0m\u001b[0;34m\u001b[0m\u001b[0;34m\u001b[0m\u001b[0;34m\u001b[0m\u001b[0m\n",
      "\u001b[0;32m/tmp/ipykernel_72631/1097445034.py\u001b[0m in \u001b[0;36maggregate_session_data\u001b[0;34m(df)\u001b[0m\n\u001b[1;32m     27\u001b[0m             \u001b[0msessions_df\u001b[0m\u001b[0;34m.\u001b[0m\u001b[0mto_pickle\u001b[0m\u001b[0;34m(\u001b[0m\u001b[0;34mf\"processed_data_{i}.pkl\"\u001b[0m\u001b[0;34m)\u001b[0m\u001b[0;34m\u001b[0m\u001b[0;34m\u001b[0m\u001b[0m\n\u001b[1;32m     28\u001b[0m \u001b[0;34m\u001b[0m\u001b[0m\n\u001b[0;32m---> 29\u001b[0;31m         \u001b[0msession_events\u001b[0m \u001b[0;34m=\u001b[0m \u001b[0mdf\u001b[0m\u001b[0;34m[\u001b[0m\u001b[0mdf\u001b[0m\u001b[0;34m[\u001b[0m\u001b[0;34m\"data.session\"\u001b[0m\u001b[0;34m]\u001b[0m\u001b[0;34m==\u001b[0m\u001b[0msession_id\u001b[0m\u001b[0;34m]\u001b[0m\u001b[0;34m\u001b[0m\u001b[0;34m\u001b[0m\u001b[0m\n\u001b[0m\u001b[1;32m     30\u001b[0m         \u001b[0mfirst_session\u001b[0m \u001b[0;34m=\u001b[0m \u001b[0msession_events\u001b[0m\u001b[0;34m.\u001b[0m\u001b[0miloc\u001b[0m\u001b[0;34m[\u001b[0m\u001b[0;36m0\u001b[0m\u001b[0;34m]\u001b[0m\u001b[0;34m\u001b[0m\u001b[0;34m\u001b[0m\u001b[0m\n\u001b[1;32m     31\u001b[0m         \u001b[0msession\u001b[0m \u001b[0;34m=\u001b[0m \u001b[0;34m{\u001b[0m\u001b[0mcol\u001b[0m\u001b[0;34m:\u001b[0m \u001b[0mfirst_session\u001b[0m\u001b[0;34m[\u001b[0m\u001b[0mcol\u001b[0m\u001b[0;34m]\u001b[0m \u001b[0;32mfor\u001b[0m \u001b[0mcol\u001b[0m \u001b[0;32min\u001b[0m \u001b[0midentical_cols\u001b[0m\u001b[0;34m}\u001b[0m\u001b[0;34m\u001b[0m\u001b[0;34m\u001b[0m\u001b[0m\n",
      "\u001b[0;32m~/pyenv/lib/python3.8/site-packages/pandas/core/ops/common.py\u001b[0m in \u001b[0;36mnew_method\u001b[0;34m(self, other)\u001b[0m\n\u001b[1;32m     67\u001b[0m         \u001b[0mother\u001b[0m \u001b[0;34m=\u001b[0m \u001b[0mitem_from_zerodim\u001b[0m\u001b[0;34m(\u001b[0m\u001b[0mother\u001b[0m\u001b[0;34m)\u001b[0m\u001b[0;34m\u001b[0m\u001b[0;34m\u001b[0m\u001b[0m\n\u001b[1;32m     68\u001b[0m \u001b[0;34m\u001b[0m\u001b[0m\n\u001b[0;32m---> 69\u001b[0;31m         \u001b[0;32mreturn\u001b[0m \u001b[0mmethod\u001b[0m\u001b[0;34m(\u001b[0m\u001b[0mself\u001b[0m\u001b[0;34m,\u001b[0m \u001b[0mother\u001b[0m\u001b[0;34m)\u001b[0m\u001b[0;34m\u001b[0m\u001b[0;34m\u001b[0m\u001b[0m\n\u001b[0m\u001b[1;32m     70\u001b[0m \u001b[0;34m\u001b[0m\u001b[0m\n\u001b[1;32m     71\u001b[0m     \u001b[0;32mreturn\u001b[0m \u001b[0mnew_method\u001b[0m\u001b[0;34m\u001b[0m\u001b[0;34m\u001b[0m\u001b[0m\n",
      "\u001b[0;32m~/pyenv/lib/python3.8/site-packages/pandas/core/arraylike.py\u001b[0m in \u001b[0;36m__eq__\u001b[0;34m(self, other)\u001b[0m\n\u001b[1;32m     30\u001b[0m     \u001b[0;34m@\u001b[0m\u001b[0munpack_zerodim_and_defer\u001b[0m\u001b[0;34m(\u001b[0m\u001b[0;34m\"__eq__\"\u001b[0m\u001b[0;34m)\u001b[0m\u001b[0;34m\u001b[0m\u001b[0;34m\u001b[0m\u001b[0m\n\u001b[1;32m     31\u001b[0m     \u001b[0;32mdef\u001b[0m \u001b[0m__eq__\u001b[0m\u001b[0;34m(\u001b[0m\u001b[0mself\u001b[0m\u001b[0;34m,\u001b[0m \u001b[0mother\u001b[0m\u001b[0;34m)\u001b[0m\u001b[0;34m:\u001b[0m\u001b[0;34m\u001b[0m\u001b[0;34m\u001b[0m\u001b[0m\n\u001b[0;32m---> 32\u001b[0;31m         \u001b[0;32mreturn\u001b[0m \u001b[0mself\u001b[0m\u001b[0;34m.\u001b[0m\u001b[0m_cmp_method\u001b[0m\u001b[0;34m(\u001b[0m\u001b[0mother\u001b[0m\u001b[0;34m,\u001b[0m \u001b[0moperator\u001b[0m\u001b[0;34m.\u001b[0m\u001b[0meq\u001b[0m\u001b[0;34m)\u001b[0m\u001b[0;34m\u001b[0m\u001b[0;34m\u001b[0m\u001b[0m\n\u001b[0m\u001b[1;32m     33\u001b[0m \u001b[0;34m\u001b[0m\u001b[0m\n\u001b[1;32m     34\u001b[0m     \u001b[0;34m@\u001b[0m\u001b[0munpack_zerodim_and_defer\u001b[0m\u001b[0;34m(\u001b[0m\u001b[0;34m\"__ne__\"\u001b[0m\u001b[0;34m)\u001b[0m\u001b[0;34m\u001b[0m\u001b[0;34m\u001b[0m\u001b[0m\n",
      "\u001b[0;32m~/pyenv/lib/python3.8/site-packages/pandas/core/series.py\u001b[0m in \u001b[0;36m_cmp_method\u001b[0;34m(self, other, op)\u001b[0m\n\u001b[1;32m   5500\u001b[0m \u001b[0;34m\u001b[0m\u001b[0m\n\u001b[1;32m   5501\u001b[0m         \u001b[0;32mwith\u001b[0m \u001b[0mnp\u001b[0m\u001b[0;34m.\u001b[0m\u001b[0merrstate\u001b[0m\u001b[0;34m(\u001b[0m\u001b[0mall\u001b[0m\u001b[0;34m=\u001b[0m\u001b[0;34m\"ignore\"\u001b[0m\u001b[0;34m)\u001b[0m\u001b[0;34m:\u001b[0m\u001b[0;34m\u001b[0m\u001b[0;34m\u001b[0m\u001b[0m\n\u001b[0;32m-> 5502\u001b[0;31m             \u001b[0mres_values\u001b[0m \u001b[0;34m=\u001b[0m \u001b[0mops\u001b[0m\u001b[0;34m.\u001b[0m\u001b[0mcomparison_op\u001b[0m\u001b[0;34m(\u001b[0m\u001b[0mlvalues\u001b[0m\u001b[0;34m,\u001b[0m \u001b[0mrvalues\u001b[0m\u001b[0;34m,\u001b[0m \u001b[0mop\u001b[0m\u001b[0;34m)\u001b[0m\u001b[0;34m\u001b[0m\u001b[0;34m\u001b[0m\u001b[0m\n\u001b[0m\u001b[1;32m   5503\u001b[0m \u001b[0;34m\u001b[0m\u001b[0m\n\u001b[1;32m   5504\u001b[0m         \u001b[0;32mreturn\u001b[0m \u001b[0mself\u001b[0m\u001b[0;34m.\u001b[0m\u001b[0m_construct_result\u001b[0m\u001b[0;34m(\u001b[0m\u001b[0mres_values\u001b[0m\u001b[0;34m,\u001b[0m \u001b[0mname\u001b[0m\u001b[0;34m=\u001b[0m\u001b[0mres_name\u001b[0m\u001b[0;34m)\u001b[0m\u001b[0;34m\u001b[0m\u001b[0;34m\u001b[0m\u001b[0m\n",
      "\u001b[0;32m~/pyenv/lib/python3.8/site-packages/pandas/core/ops/array_ops.py\u001b[0m in \u001b[0;36mcomparison_op\u001b[0;34m(left, right, op)\u001b[0m\n\u001b[1;32m    282\u001b[0m \u001b[0;34m\u001b[0m\u001b[0m\n\u001b[1;32m    283\u001b[0m     \u001b[0;32melif\u001b[0m \u001b[0mis_object_dtype\u001b[0m\u001b[0;34m(\u001b[0m\u001b[0mlvalues\u001b[0m\u001b[0;34m.\u001b[0m\u001b[0mdtype\u001b[0m\u001b[0;34m)\u001b[0m \u001b[0;32mor\u001b[0m \u001b[0misinstance\u001b[0m\u001b[0;34m(\u001b[0m\u001b[0mrvalues\u001b[0m\u001b[0;34m,\u001b[0m \u001b[0mstr\u001b[0m\u001b[0;34m)\u001b[0m\u001b[0;34m:\u001b[0m\u001b[0;34m\u001b[0m\u001b[0;34m\u001b[0m\u001b[0m\n\u001b[0;32m--> 284\u001b[0;31m         \u001b[0mres_values\u001b[0m \u001b[0;34m=\u001b[0m \u001b[0mcomp_method_OBJECT_ARRAY\u001b[0m\u001b[0;34m(\u001b[0m\u001b[0mop\u001b[0m\u001b[0;34m,\u001b[0m \u001b[0mlvalues\u001b[0m\u001b[0;34m,\u001b[0m \u001b[0mrvalues\u001b[0m\u001b[0;34m)\u001b[0m\u001b[0;34m\u001b[0m\u001b[0;34m\u001b[0m\u001b[0m\n\u001b[0m\u001b[1;32m    285\u001b[0m \u001b[0;34m\u001b[0m\u001b[0m\n\u001b[1;32m    286\u001b[0m     \u001b[0;32melse\u001b[0m\u001b[0;34m:\u001b[0m\u001b[0;34m\u001b[0m\u001b[0;34m\u001b[0m\u001b[0m\n",
      "\u001b[0;32m~/pyenv/lib/python3.8/site-packages/pandas/core/ops/array_ops.py\u001b[0m in \u001b[0;36mcomp_method_OBJECT_ARRAY\u001b[0;34m(op, x, y)\u001b[0m\n\u001b[1;32m     71\u001b[0m         \u001b[0mresult\u001b[0m \u001b[0;34m=\u001b[0m \u001b[0mlibops\u001b[0m\u001b[0;34m.\u001b[0m\u001b[0mvec_compare\u001b[0m\u001b[0;34m(\u001b[0m\u001b[0mx\u001b[0m\u001b[0;34m.\u001b[0m\u001b[0mravel\u001b[0m\u001b[0;34m(\u001b[0m\u001b[0;34m)\u001b[0m\u001b[0;34m,\u001b[0m \u001b[0my\u001b[0m\u001b[0;34m.\u001b[0m\u001b[0mravel\u001b[0m\u001b[0;34m(\u001b[0m\u001b[0;34m)\u001b[0m\u001b[0;34m,\u001b[0m \u001b[0mop\u001b[0m\u001b[0;34m)\u001b[0m\u001b[0;34m\u001b[0m\u001b[0;34m\u001b[0m\u001b[0m\n\u001b[1;32m     72\u001b[0m     \u001b[0;32melse\u001b[0m\u001b[0;34m:\u001b[0m\u001b[0;34m\u001b[0m\u001b[0;34m\u001b[0m\u001b[0m\n\u001b[0;32m---> 73\u001b[0;31m         \u001b[0mresult\u001b[0m \u001b[0;34m=\u001b[0m \u001b[0mlibops\u001b[0m\u001b[0;34m.\u001b[0m\u001b[0mscalar_compare\u001b[0m\u001b[0;34m(\u001b[0m\u001b[0mx\u001b[0m\u001b[0;34m.\u001b[0m\u001b[0mravel\u001b[0m\u001b[0;34m(\u001b[0m\u001b[0;34m)\u001b[0m\u001b[0;34m,\u001b[0m \u001b[0my\u001b[0m\u001b[0;34m,\u001b[0m \u001b[0mop\u001b[0m\u001b[0;34m)\u001b[0m\u001b[0;34m\u001b[0m\u001b[0;34m\u001b[0m\u001b[0m\n\u001b[0m\u001b[1;32m     74\u001b[0m     \u001b[0;32mreturn\u001b[0m \u001b[0mresult\u001b[0m\u001b[0;34m.\u001b[0m\u001b[0mreshape\u001b[0m\u001b[0;34m(\u001b[0m\u001b[0mx\u001b[0m\u001b[0;34m.\u001b[0m\u001b[0mshape\u001b[0m\u001b[0;34m)\u001b[0m\u001b[0;34m\u001b[0m\u001b[0;34m\u001b[0m\u001b[0m\n\u001b[1;32m     75\u001b[0m \u001b[0;34m\u001b[0m\u001b[0m\n",
      "\u001b[0;31mKeyboardInterrupt\u001b[0m: "
     ]
    }
   ],
   "source": [
    "X_train, X_test, y_train, y_test = get_train_test_data(df)"
   ]
  },
  {
   "cell_type": "code",
   "execution_count": 202,
   "id": "a30d3856",
   "metadata": {},
   "outputs": [],
   "source": [
    "X_train.to_pickle('X_train.pkl')\n",
    "X_test.to_pickle('X_test.pkl')\n",
    "y_train.to_pickle('y_train.pkl')\n",
    "y_test.to_pickle('y_test.pkl')"
   ]
  },
  {
   "cell_type": "code",
   "execution_count": 11,
   "id": "8f720b2b",
   "metadata": {},
   "outputs": [],
   "source": [
    "X_train = pd.read_pickle('X_train.pkl')\n",
    "X_test = pd.read_pickle('X_test.pkl')\n",
    "y_train = pd.read_pickle('y_train.pkl')\n",
    "y_test = pd.read_pickle('y_test.pkl')"
   ]
  },
  {
   "cell_type": "code",
   "execution_count": 12,
   "id": "5f21e3ee",
   "metadata": {},
   "outputs": [
    {
     "data": {
      "text/plain": [
       "(162751, 67249, 162751, 67249)"
      ]
     },
     "execution_count": 12,
     "metadata": {},
     "output_type": "execute_result"
    }
   ],
   "source": [
    "len(X_train), len(X_test), len(y_train), len(y_test)"
   ]
  },
  {
   "cell_type": "code",
   "execution_count": 243,
   "id": "7c4eddfc",
   "metadata": {},
   "outputs": [
    {
     "name": "stdout",
     "output_type": "stream",
     "text": [
      "command.failed\n"
     ]
    },
    {
     "data": {
      "image/png": "[encoded data removed]",
      "text/plain": [
       "<Figure size 432x288 with 1 Axes>"
      ]
     },
     "metadata": {
      "needs_background": "light"
     },
     "output_type": "display_data"
    },
    {
     "name": "stdout",
     "output_type": "stream",
     "text": [
      "data.src_language\n"
     ]
    },
    {
     "data": {
      "image/png": "[encoded data removed]",
      "text/plain": [
       "<Figure size 432x288 with 1 Axes>"
      ]
     },
     "metadata": {
      "needs_background": "light"
     },
     "output_type": "display_data"
    },
    {
     "name": "stdout",
     "output_type": "stream",
     "text": [
      "data.ip_country\n"
     ]
    },
    {
     "data": {
      "image/png": "[encoded data removed]",
      "text/plain": [
       "<Figure size 432x288 with 1 Axes>"
      ]
     },
     "metadata": {
      "needs_background": "light"
     },
     "output_type": "display_data"
    },
    {
     "name": "stdout",
     "output_type": "stream",
     "text": [
      "data.message\n"
     ]
    },
    {
     "data": {
      "image/png": "[encoded data removed]",
      "text/plain": [
       "<Figure size 432x288 with 1 Axes>"
      ]
     },
     "metadata": {
      "needs_background": "light"
     },
     "output_type": "display_data"
    }
   ],
   "source": [
    "columns = [\"data.bf\", 'data.sensor_geo.$binary.base64',\n",
    "           'data.sensor_segment.$binary.base64', 'log.closed',\n",
    "       'client.kex', 'login.success', 'session.closed', 'client.version',\n",
    "       'session.params', 'command.input', 'session.file_download',\n",
    "       'session.file_download.failed', 'command.failed', 'session.file_upload',\n",
    "       'client.var', 'command.success', 'client.size', 'data.src_uptime_sec']\n",
    "for col in columns:\n",
    "    print(col)\n",
    "    sns.histplot(data=X_train, x=col, hue=\"label\")\n",
    "    plt.show()"
   ]
  },
  {
   "cell_type": "markdown",
   "id": "383f2938",
   "metadata": {},
   "source": [
    "## Model Selection"
   ]
  },
  {
   "cell_type": "code",
   "execution_count": 13,
   "id": "1ccb413a",
   "metadata": {},
   "outputs": [],
   "source": [
    "from imblearn.ensemble import BalancedBaggingClassifier\n",
    "from imblearn.ensemble import BalancedRandomForestClassifier\n",
    "from sklearn.metrics import precision_score, recall_score\n",
    "from sklearn.ensemble import RandomForestClassifier\n",
    "from imblearn.ensemble import EasyEnsembleClassifier\n",
    "from sklearn.neural_network import MLPClassifier\n",
    "from sklearn.svm import SVC"
   ]
  },
  {
   "cell_type": "code",
   "execution_count": 25,
   "id": "e6daf2f2",
   "metadata": {},
   "outputs": [],
   "source": [
    "train_X = X_train.values\n",
    "test_X = X_test.values\n",
    "train_y = y_train.values.astype(int)\n",
    "test_y = y_test.values.astype(int)"
   ]
  },
  {
   "cell_type": "code",
   "execution_count": 26,
   "id": "368837b1",
   "metadata": {},
   "outputs": [
    {
     "name": "stdout",
     "output_type": "stream",
     "text": [
      "SVC(random_state=1)\n",
      "precision_score on test: 0.9934571517792086\n",
      "recall_score on test: 1.0\n",
      "num fps: 440 fpr: 1.0 \n",
      "\n",
      "MLPClassifier(random_state=1)\n",
      "precision_score on test: 0.9934571517792086\n",
      "recall_score on test: 1.0\n",
      "num fps: 440 fpr: 1.0 \n",
      "\n",
      "RandomForestClassifier(random_state=1)\n",
      "precision_score on test: 0.995305725818508\n",
      "recall_score on test: 0.9965124459279439\n",
      "num fps: 314 fpr: 0.7136363636363636 \n",
      "\n",
      "BalancedBaggingClassifier()\n",
      "precision_score on test: 0.998294691774609\n",
      "recall_score on test: 0.8236614827343621\n",
      "num fps: 94 fpr: 0.21363636363636362 \n",
      "\n",
      "RandomForestClassifier(class_weight='balanced_subsample', n_estimators=10,\n",
      "                       random_state=1)\n",
      "precision_score on test: 0.9954195045281042\n",
      "recall_score on test: 0.9953599065994102\n",
      "num fps: 306 fpr: 0.6954545454545454 \n",
      "\n",
      "BalancedRandomForestClassifier()\n",
      "precision_score on test: 0.9985642498205313\n",
      "recall_score on test: 0.791180828930234\n",
      "num fps: 76 fpr: 0.17272727272727273 \n",
      "\n"
     ]
    }
   ],
   "source": [
    "models = [\n",
    "    SVC(random_state=1),\n",
    "    MLPClassifier(random_state=1),\n",
    "    RandomForestClassifier(random_state=1),\n",
    "    BalancedBaggingClassifier(),\n",
    "    RandomForestClassifier(n_estimators=10, class_weight='balanced_subsample', random_state=1),\n",
    "    BalancedRandomForestClassifier()\n",
    "]\n",
    "\n",
    "model_names = [\"SVC\", \"MLP\", \"Random\\nForest\", \"Balanced\\nBagging\", \"Random\\nForest\\nv2\", \"Balanced\\nRandom\\nForest\"]\n",
    "precisions = []\n",
    "recalls = []\n",
    "fprs = []\n",
    "\n",
    "\n",
    "for model in models:\n",
    "    print(model)\n",
    "    model.fit(train_X, train_y)\n",
    "    test_preds = model.predict(test_X).round()\n",
    "    precision = precision_score(test_y, test_preds)\n",
    "    recall = recall_score(test_y, test_preds)\n",
    "    precisions.append(precision)\n",
    "    recalls.append(recall)\n",
    "\n",
    "    print(\"precision_score on test:\", precision)\n",
    "    print(\"recall_score on test:\", recall)\n",
    "\n",
    "    fps = ((test_y != test_preds) & (test_preds == 1)).sum()\n",
    "    total_negatives = (test_y == 0).sum()\n",
    "    fpr = fps/total_negatives\n",
    "    print(\"num fps:\", fps, \"fpr:\", fpr, \"\\n\")\n",
    "    fprs.append(fpr)"
   ]
  },
  {
   "cell_type": "markdown",
   "id": "52bc6ce9",
   "metadata": {},
   "source": [
    "### Precisions Plot"
   ]
  },
  {
   "cell_type": "code",
   "execution_count": 37,
   "id": "cbf1f057",
   "metadata": {},
   "outputs": [
    {
     "data": {
      "image/png": "[encoded data removed]",
      "text/plain": [
       "<Figure size 432x288 with 1 Axes>"
      ]
     },
     "metadata": {
      "needs_background": "light"
     },
     "output_type": "display_data"
    }
   ],
   "source": [
    "plt.bar(model_names, precisions)\n",
    "plt.ylim(0.98, 1)\n",
    "plt.title('Precisions')\n",
    "plt.xlabel('model names')\n",
    "plt.ylabel('precision')\n",
    "plt.show()"
   ]
  },
  {
   "cell_type": "markdown",
   "id": "ff150fbd",
   "metadata": {},
   "source": [
    "### Recalls Plot"
   ]
  },
  {
   "cell_type": "code",
   "execution_count": 41,
   "id": "4df1cf27",
   "metadata": {},
   "outputs": [
    {
     "data": {
      "image/png": "[encoded data removed]",
      "text/plain": [
       "<Figure size 432x288 with 1 Axes>"
      ]
     },
     "metadata": {
      "needs_background": "light"
     },
     "output_type": "display_data"
    }
   ],
   "source": [
    "plt.bar(model_names, recalls)\n",
    "plt.ylim(0, 1)\n",
    "plt.title('Recalls')\n",
    "plt.xlabel('model names')\n",
    "plt.ylabel('recall')\n",
    "plt.show()"
   ]
  },
  {
   "cell_type": "markdown",
   "id": "ea7ad308",
   "metadata": {},
   "source": [
    "### FPRs Plot"
   ]
  },
  {
   "cell_type": "code",
   "execution_count": 29,
   "id": "827cca12",
   "metadata": {},
   "outputs": [
    {
     "data": {
      "image/png": "[encoded data removed]",
      "text/plain": [
       "<Figure size 432x288 with 1 Axes>"
      ]
     },
     "metadata": {
      "needs_background": "light"
     },
     "output_type": "display_data"
    }
   ],
   "source": [
    "plt.bar(model_names, fprs)\n",
    "plt.ylim(min(fprs), max(fprs))\n",
    "plt.title('False Positive Ratios')\n",
    "plt.xlabel('model names')\n",
    "plt.ylabel('FPR')\n",
    "plt.show()"
   ]
  },
  {
   "cell_type": "markdown",
   "id": "83989fd5",
   "metadata": {},
   "source": [
    "### TODO - Model Selection\n",
    "\n",
    "1. Run models with different random seeds\n",
    "2. Hyperparameters tuning"
   ]
  }
 ],
 "metadata": {
  "kernelspec": {
   "display_name": "Python 3 (ipykernel)",
   "language": "python",
   "name": "python3"
  },
  "language_info": {
   "codemirror_mode": {
    "name": "ipython",
    "version": 3
   },
   "file_extension": ".py",
   "mimetype": "text/x-python",
   "name": "python",
   "nbconvert_exporter": "python",
   "pygments_lexer": "ipython3",
   "version": "3.8.10"
  }
 },
 "nbformat": 4,
 "nbformat_minor": 5
}
